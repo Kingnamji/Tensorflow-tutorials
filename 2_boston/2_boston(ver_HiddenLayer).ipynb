{
  "nbformat": 4,
  "nbformat_minor": 0,
  "metadata": {
    "colab": {
      "name": "2_boston(ver.HiddenLayer)",
      "provenance": [],
      "collapsed_sections": []
    },
    "kernelspec": {
      "name": "python3",
      "display_name": "Python 3"
    }
  },
  "cells": [
    {
      "cell_type": "code",
      "metadata": {
        "id": "ccTkFXBwGrCg"
      },
      "source": [
        "# 라이브러리 사용\n",
        "import tensorflow as tf\n",
        "import pandas as pd\n",
        "\n",
        "# 1.과거의 데이터를 준비\n",
        "dir = 'https://raw.githubusercontent.com/blackdew/tensorflow1/master/csv/boston.csv'\n",
        "boston = pd.read_csv(dir)\n",
        " \n",
        "# 종속변수, 독립변수\n",
        "inde = boston[['crim', 'zn', 'indus', 'chas', 'nox', \n",
        "            'rm', 'age', 'dis', 'rad', 'tax',\n",
        "            'ptratio', 'b', 'lstat']]\n",
        "de = boston[['medv']]\n",
        "print(inde.shape, de.shape)"
      ],
      "execution_count": null,
      "outputs": []
    },
    {
      "cell_type": "code",
      "metadata": {
        "id": "byRY_-qcHPpN"
      },
      "source": [
        "# 2. 모델의 구조를 만들기\n",
        "X = tf.keras.layers.Input(shape=[13])\n",
        "H = tf.keras.layers.Dense(10, activation='swish')(X) # swish는 최근에 발표한 좋은 활성화 함수이다.\n",
        "Y = tf.keras.layers.Dense(1)(H) # Hidden Layer 에서 만들어진 H 를 넣어줘야합니다.\n",
        "model = tf.keras.models.Model(X, Y)\n",
        "model.compile(loss='mse')"
      ],
      "execution_count": null,
      "outputs": []
    },
    {
      "cell_type": "code",
      "metadata": {
        "id": "RYHgTt1MHORL"
      },
      "source": [
        "# 모델 구조 확인\n",
        "model.summary()"
      ],
      "execution_count": null,
      "outputs": []
    },
    {
      "cell_type": "code",
      "metadata": {
        "id": "Zo3DLQlbHEKe"
      },
      "source": [
        "# 3.데이터로 모델을 학습(FIT)\n",
        "model.fit(inde, de, epochs=3000, verbose=0)\n",
        "model.fit(inde, de, epochs=10 )"
      ],
      "execution_count": null,
      "outputs": []
    },
    {
      "cell_type": "code",
      "metadata": {
        "id": "1LbD0FWoHEle"
      },
      "source": [
        "# 4. 모델을 이용\n",
        "print(model.predict(inde[:5]))\n",
        "print(de[:5])"
      ],
      "execution_count": null,
      "outputs": []
    },
    {
      "cell_type": "code",
      "metadata": {
        "id": "QgfHl2MVHFFo"
      },
      "source": [
        "# 모델의 수식 확인\n",
        "print(model.get_weights())"
      ],
      "execution_count": null,
      "outputs": []
    }
  ]
}