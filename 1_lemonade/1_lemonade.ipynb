{
  "nbformat": 4,
  "nbformat_minor": 0,
  "metadata": {
    "colab": {
      "name": "1_lemonade",
      "provenance": []
    },
    "kernelspec": {
      "name": "python3",
      "display_name": "Python 3"
    }
  },
  "cells": [
    {
      "cell_type": "markdown",
      "metadata": {
        "id": "zfWI0W9iNT3U"
      },
      "source": [
        "먼저 라이브러리를 import 하고\n",
        "\n",
        "데이터를 준비한 후 종속변수, 독립변수를 나눠준다."
      ]
    },
    {
      "cell_type": "code",
      "metadata": {
        "colab": {
          "base_uri": "https://localhost:8080/",
          "height": 204
        },
        "id": "EXyG7JRCNGTe",
        "outputId": "d3d3e871-eb00-43b3-baa9-6e4b26cf30fb"
      },
      "source": [
        "# 라이브러리 사용\n",
        "import tensorflow as tf\n",
        "import pandas as pd\n",
        " \n",
        "# 데이터를 준비\n",
        "dir = 'https://raw.githubusercontent.com/blackdew/tensorflow1/master/csv/lemonade.csv'\n",
        "lemonade = pd.read_csv(dir)\n",
        "lemonade.head()"
      ],
      "execution_count": 1,
      "outputs": [
        {
          "output_type": "execute_result",
          "data": {
            "text/html": [
              "<div>\n",
              "<style scoped>\n",
              "    .dataframe tbody tr th:only-of-type {\n",
              "        vertical-align: middle;\n",
              "    }\n",
              "\n",
              "    .dataframe tbody tr th {\n",
              "        vertical-align: top;\n",
              "    }\n",
              "\n",
              "    .dataframe thead th {\n",
              "        text-align: right;\n",
              "    }\n",
              "</style>\n",
              "<table border=\"1\" class=\"dataframe\">\n",
              "  <thead>\n",
              "    <tr style=\"text-align: right;\">\n",
              "      <th></th>\n",
              "      <th>온도</th>\n",
              "      <th>판매량</th>\n",
              "    </tr>\n",
              "  </thead>\n",
              "  <tbody>\n",
              "    <tr>\n",
              "      <th>0</th>\n",
              "      <td>20</td>\n",
              "      <td>40</td>\n",
              "    </tr>\n",
              "    <tr>\n",
              "      <th>1</th>\n",
              "      <td>21</td>\n",
              "      <td>42</td>\n",
              "    </tr>\n",
              "    <tr>\n",
              "      <th>2</th>\n",
              "      <td>22</td>\n",
              "      <td>44</td>\n",
              "    </tr>\n",
              "    <tr>\n",
              "      <th>3</th>\n",
              "      <td>23</td>\n",
              "      <td>46</td>\n",
              "    </tr>\n",
              "    <tr>\n",
              "      <th>4</th>\n",
              "      <td>24</td>\n",
              "      <td>48</td>\n",
              "    </tr>\n",
              "  </tbody>\n",
              "</table>\n",
              "</div>"
            ],
            "text/plain": [
              "   온도  판매량\n",
              "0  20   40\n",
              "1  21   42\n",
              "2  22   44\n",
              "3  23   46\n",
              "4  24   48"
            ]
          },
          "metadata": {
            "tags": []
          },
          "execution_count": 1
        }
      ]
    },
    {
      "cell_type": "code",
      "metadata": {
        "colab": {
          "base_uri": "https://localhost:8080/"
        },
        "id": "-GOXyoloRDEj",
        "outputId": "03cd9bb9-1347-469f-f711-df7102299e15"
      },
      "source": [
        "# 종속변수, 독립변수\n",
        "inde = lemonade[['온도']]\n",
        "de = lemonade[['판매량']]\n",
        "print(inde.shape, de.shape)"
      ],
      "execution_count": 2,
      "outputs": [
        {
          "output_type": "stream",
          "text": [
            "(6, 1) (6, 1)\n"
          ],
          "name": "stdout"
        }
      ]
    },
    {
      "cell_type": "markdown",
      "metadata": {
        "id": "ChM8AUPgObRd"
      },
      "source": [
        "모델을 만든다.\n",
        "\n",
        "아래의 모델은 뉴런이 하나인 인공신경망을 생각하면 될 것"
      ]
    },
    {
      "cell_type": "code",
      "metadata": {
        "id": "vUfBYfSSOR0q"
      },
      "source": [
        "# 모델을 만듭니다.\n",
        "X = tf.keras.layers.Input(shape=[1]) # 독립 변수의 개수가 하나이기 때문에 1 입력\n",
        "Y = tf.keras.layers.Dense(1)(X) # 종속 변수의 개수가 하나이기 때문에 1 입력\n",
        "model = tf.keras.models.Model(X, Y)\n",
        "model.compile(loss='mse') "
      ],
      "execution_count": 3,
      "outputs": []
    },
    {
      "cell_type": "markdown",
      "metadata": {
        "id": "iF8tfwkwPwl2"
      },
      "source": [
        "학습에 사용하는 fit() 메서드의 argument중 verbose에 대한 설명\n",
        "\n",
        "verbose: Integer. 0, 1, or 2.  \n",
        "\n",
        "0 = silent, \n",
        "1 = progress bar, \n",
        "2 = one line per epoch."
      ]
    },
    {
      "cell_type": "code",
      "metadata": {
        "colab": {
          "base_uri": "https://localhost:8080/"
        },
        "id": "FG39l0ILO1yI",
        "outputId": "326254da-07d1-4b41-ae80-74d6fc18df4f"
      },
      "source": [
        "# 모델을 학습\n",
        "model.fit(inde, de, epochs=10000, verbose=0)\n",
        "model.fit(inde, de, epochs=10)"
      ],
      "execution_count": 6,
      "outputs": [
        {
          "output_type": "stream",
          "text": [
            "Epoch 1/10\n",
            "1/1 [==============================] - 0s 3ms/step - loss: 1.6661e-04\n",
            "Epoch 2/10\n",
            "1/1 [==============================] - 0s 7ms/step - loss: 1.6652e-04\n",
            "Epoch 3/10\n",
            "1/1 [==============================] - 0s 4ms/step - loss: 1.6646e-04\n",
            "Epoch 4/10\n",
            "1/1 [==============================] - 0s 5ms/step - loss: 1.6647e-04\n",
            "Epoch 5/10\n",
            "1/1 [==============================] - 0s 4ms/step - loss: 1.6649e-04\n",
            "Epoch 6/10\n",
            "1/1 [==============================] - 0s 4ms/step - loss: 1.6653e-04\n",
            "Epoch 7/10\n",
            "1/1 [==============================] - 0s 4ms/step - loss: 1.6654e-04\n",
            "Epoch 8/10\n",
            "1/1 [==============================] - 0s 4ms/step - loss: 1.6657e-04\n",
            "Epoch 9/10\n",
            "1/1 [==============================] - 0s 4ms/step - loss: 1.6656e-04\n",
            "Epoch 10/10\n",
            "1/1 [==============================] - 0s 4ms/step - loss: 1.6649e-04\n"
          ],
          "name": "stdout"
        },
        {
          "output_type": "execute_result",
          "data": {
            "text/plain": [
              "<tensorflow.python.keras.callbacks.History at 0x7fa7c05df3c8>"
            ]
          },
          "metadata": {
            "tags": []
          },
          "execution_count": 6
        }
      ]
    },
    {
      "cell_type": "markdown",
      "metadata": {
        "id": "Yhq43P6tQEEn"
      },
      "source": [
        "loss는 학습이 얼마나 진행되었는지 알려주는 척도\n",
        "\n",
        "얼마나 정답에 가까운지 평가하는 지표로 생각\n",
        "\n",
        "loss가 0에 가까워 질수록 학습이 잘 됐다고 할 수 있음\n",
        "\n",
        "epoch 마다 loss가 떨어지는지, 원하는 수준까지 떨어지는지 확인"
      ]
    },
    {
      "cell_type": "code",
      "metadata": {
        "colab": {
          "base_uri": "https://localhost:8080/"
        },
        "id": "b-xVGEpXPEIR",
        "outputId": "9a577719-4a20-443d-a74f-b23ce50d10bd"
      },
      "source": [
        "# 모델을 이용합니다. \n",
        "print(model.predict(inde))\n",
        "print(model.predict([[15]]))"
      ],
      "execution_count": 7,
      "outputs": [
        {
          "output_type": "stream",
          "text": [
            "[[40.01856 ]\n",
            " [42.015987]\n",
            " [44.01342 ]\n",
            " [46.01085 ]\n",
            " [48.008278]\n",
            " [50.00571 ]]\n",
            "[[30.031404]]\n"
          ],
          "name": "stdout"
        }
      ]
    }
  ]
}