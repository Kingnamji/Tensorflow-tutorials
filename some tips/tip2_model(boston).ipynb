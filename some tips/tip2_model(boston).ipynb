{
  "nbformat": 4,
  "nbformat_minor": 0,
  "metadata": {
    "colab": {
      "name": "tip2_model(boston)",
      "provenance": []
    },
    "kernelspec": {
      "name": "python3",
      "display_name": "Python 3"
    }
  },
  "cells": [
    {
      "cell_type": "markdown",
      "metadata": {
        "id": "yL4XUG9KPX-y"
      },
      "source": [
        "이전의 hidden layer 까지 쌓아놨던 모델에서\n",
        "\n",
        "BatchNormalization layer을 추가한 모델 만들기"
      ]
    },
    {
      "cell_type": "code",
      "metadata": {
        "id": "eFDpIiLdOfes"
      },
      "source": [
        "# 라이브러리 사용\n",
        "import tensorflow as tf\n",
        "import pandas as pd\n",
        " \n",
        "# 1.과거의 데이터를 준비합니다.\n",
        "dir = 'https://raw.githubusercontent.com/blackdew/tensorflow1/master/csv/boston.csv'\n",
        "boston = pd.read_csv(dir)"
      ],
      "execution_count": 1,
      "outputs": []
    },
    {
      "cell_type": "code",
      "metadata": {
        "colab": {
          "base_uri": "https://localhost:8080/"
        },
        "id": "ELtFd6aWOfbg",
        "outputId": "776ae842-4d11-4486-a890-ef1b3008edeb"
      },
      "source": [
        " # 종속변수, 독립변수\n",
        "inde = boston[['crim', 'zn', 'indus', 'chas', 'nox', \n",
        "            'rm', 'age', 'dis', 'rad', 'tax',\n",
        "            'ptratio', 'b', 'lstat']]\n",
        "de = boston[['medv']]\n",
        "print(inde.shape, de.shape)"
      ],
      "execution_count": 2,
      "outputs": [
        {
          "output_type": "stream",
          "text": [
            "(506, 13) (506, 1)\n"
          ],
          "name": "stdout"
        }
      ]
    },
    {
      "cell_type": "code",
      "metadata": {
        "id": "KK54MLlGOfUp"
      },
      "source": [
        "# 2. 모델의 구조를 BatchNormalization layer를 사용하여 만든다.\n",
        "X = tf.keras.layers.Input(shape=[13])\n",
        " \n",
        "H = tf.keras.layers.Dense(8)(X) \n",
        "# H = tf.keras.layers.Dense(8, activation='swish')(H) \n",
        "# 위처럼 하지 않는 이유는 배치정규화를 활성화함수 적용 이전에 적용하는 것이 좀 더 효과적이기에 분리\n",
        "H = tf.keras.layers.BatchNormalization()(H) \n",
        "H = tf.keras.layers.Activation('swish')(H) \n",
        " \n",
        "H = tf.keras.layers.Dense(8)(H)\n",
        "H = tf.keras.layers.BatchNormalization()(H)\n",
        "H = tf.keras.layers.Activation('swish')(H)\n",
        " \n",
        "H = tf.keras.layers.Dense(8)(H)\n",
        "H = tf.keras.layers.BatchNormalization()(H)\n",
        "H = tf.keras.layers.Activation('swish')(H)\n",
        "\n",
        "\n",
        "Y = tf.keras.layers.Dense(1)(H)\n",
        "model = tf.keras.models.Model(X, Y)\n",
        "model.compile(loss='mse')"
      ],
      "execution_count": 3,
      "outputs": []
    },
    {
      "cell_type": "code",
      "metadata": {
        "colab": {
          "base_uri": "https://localhost:8080/"
        },
        "id": "s6OtKaVTOfPH",
        "outputId": "3db23df4-5ad0-4e45-acda-4ddabdcb2d25"
      },
      "source": [
        "# 3.데이터로 모델을 학습(FIT)합니다.\n",
        "model.fit(inde, de, epochs=1000, verbose=0)\n",
        "model.fit(inde, de, epochs=10)"
      ],
      "execution_count": 5,
      "outputs": [
        {
          "output_type": "stream",
          "text": [
            "Epoch 1/10\n",
            "16/16 [==============================] - 0s 2ms/step - loss: 10.2218\n",
            "Epoch 2/10\n",
            "16/16 [==============================] - 0s 2ms/step - loss: 8.1743\n",
            "Epoch 3/10\n",
            "16/16 [==============================] - 0s 2ms/step - loss: 8.9167\n",
            "Epoch 4/10\n",
            "16/16 [==============================] - 0s 2ms/step - loss: 8.7850\n",
            "Epoch 5/10\n",
            "16/16 [==============================] - 0s 2ms/step - loss: 9.7104\n",
            "Epoch 6/10\n",
            "16/16 [==============================] - 0s 2ms/step - loss: 9.7428\n",
            "Epoch 7/10\n",
            "16/16 [==============================] - 0s 2ms/step - loss: 8.9250\n",
            "Epoch 8/10\n",
            "16/16 [==============================] - 0s 2ms/step - loss: 8.3063\n",
            "Epoch 9/10\n",
            "16/16 [==============================] - 0s 2ms/step - loss: 9.8505\n",
            "Epoch 10/10\n",
            "16/16 [==============================] - 0s 2ms/step - loss: 10.9537\n"
          ],
          "name": "stdout"
        },
        {
          "output_type": "execute_result",
          "data": {
            "text/plain": [
              "<tensorflow.python.keras.callbacks.History at 0x7f0389814780>"
            ]
          },
          "metadata": {
            "tags": []
          },
          "execution_count": 5
        }
      ]
    },
    {
      "cell_type": "code",
      "metadata": {
        "colab": {
          "base_uri": "https://localhost:8080/"
        },
        "id": "rX2zXKgYTDAW",
        "outputId": "2e81f7f3-4ad2-4d5e-e208-493318789947"
      },
      "source": [
        "# 모델을 사용\n",
        "print(model.predict(inde[:5]))\n",
        "print(de[:5])"
      ],
      "execution_count": 6,
      "outputs": [
        {
          "output_type": "stream",
          "text": [
            "[[25.471159]\n",
            " [24.006054]\n",
            " [34.384983]\n",
            " [34.807926]\n",
            " [33.78898 ]]\n",
            "   medv\n",
            "0  24.0\n",
            "1  21.6\n",
            "2  34.7\n",
            "3  33.4\n",
            "4  36.2\n"
          ],
          "name": "stdout"
        }
      ]
    }
  ]
}